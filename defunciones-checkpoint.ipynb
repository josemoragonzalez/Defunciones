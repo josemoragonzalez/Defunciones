{
 "cells": [
  {
   "cell_type": "markdown",
   "metadata": {},
   "source": [
    "# Script para obtener datos de mortalidad\n",
    "El siguiente notebook tiene como objetivo establecer el impacto del corona virus en la tasa de moratalidad en Chile"
   ]
  },
  {
   "cell_type": "markdown",
   "metadata": {},
   "source": [
    "## Datos históricos de mortalidad\n",
    "La búsqueda de datos sobre mortalidad ha resultado ser una difícil tarea, de hecho la data histórica desagregada a nivel granular de defunción anonimizada solo llega hasta 2017.\n",
    "Los siguientes datos fueron obtenidos desde la página de Departaento de Estadísticas de Información de Salud (DEIS)"
   ]
  },
  {
   "cell_type": "code",
   "execution_count": null,
   "metadata": {},
   "outputs": [],
   "source": [
    "# Descarga del archivo usando urllib\n",
    "\n",
    "# importamos las librerias necesarias\n",
    "import urllib.request\n",
    "\n",
    "url = 'https://repositoriodeis.minsal.cl/DatosAbiertos/Vitales/DEF_1990-2017.rar'\n",
    "RARmort = urllib.request.urlretrieve(url, 'DEF_1990-2017.rar') # El archivo quedará almacenado en la misma carpeta que el notebook"
   ]
  },
  {
   "cell_type": "code",
   "execution_count": null,
   "metadata": {},
   "outputs": [],
   "source": [
    "# Descompresión del archivo y lectura en un dataframe\n",
    "\n",
    "# importamos las librerias necesarias\n",
    "import pandas as pd\n",
    "import patoolib\n",
    "import os\n",
    "\n",
    "cwd = os.path.abspath(os.getcwd())\n",
    "patoolib.extract_archive(\"DEF_1990-2017.rar\", outdir=cwd)"
   ]
  },
  {
   "cell_type": "code",
   "execution_count": null,
   "metadata": {},
   "outputs": [],
   "source": [
    "\n",
    "\n",
    "\n",
    "\n"
   ]
  }
 ],
 "metadata": {
  "kernelspec": {
   "display_name": "Python 3",
   "language": "python",
   "name": "python3"
  },
  "language_info": {
   "codemirror_mode": {
    "name": "ipython",
    "version": 3
   },
   "file_extension": ".py",
   "mimetype": "text/x-python",
   "name": "python",
   "nbconvert_exporter": "python",
   "pygments_lexer": "ipython3",
   "version": "3.7.6"
  }
 },
 "nbformat": 4,
 "nbformat_minor": 4
}
